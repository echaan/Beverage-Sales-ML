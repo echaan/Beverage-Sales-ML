{
  "cells": [
    {
      "cell_type": "markdown",
      "metadata": {
        "id": "fKADPWcFKlj3"
      },
      "source": [
        "# **1. Import Library**"
      ]
    },
    {
      "cell_type": "markdown",
      "metadata": {
        "id": "LgA3ERnVn84N"
      },
      "source": [
        "Pada tahap ini, Anda perlu mengimpor beberapa pustaka (library) Python yang dibutuhkan untuk analisis data dan pembangunan model machine learning."
      ]
    },
    {
      "cell_type": "code",
      "execution_count": 35,
      "metadata": {
        "id": "BlmvjLY9M4Yj"
      },
      "outputs": [],
      "source": [
        "# Data manipulation and visualization libraries\n",
        "import pandas as pd  # Data analysis and manipulation tool\n",
        "import numpy as np   # Numerical computing library\n",
        "import seaborn as sns # Statistical data visualization\n",
        "import matplotlib.pyplot as plt # Plotting library\n",
        "\n",
        "# Data preprocessing\n",
        "from sklearn.model_selection import train_test_split, RandomizedSearchCV\n",
        "from sklearn.preprocessing import LabelEncoder, MinMaxScaler\n",
        "\n",
        "# Machine learning models\n",
        "from sklearn.tree import DecisionTreeClassifier\n",
        "from sklearn.naive_bayes import GaussianNB\n",
        "\n",
        "# Model evaluation\n",
        "from sklearn.metrics import (\n",
        "    accuracy_score,\n",
        "    precision_score,\n",
        "    recall_score,\n",
        "    f1_score,\n",
        "    classification_report, \n",
        "    ConfusionMatrixDisplay\n",
        ")\n"
      ]
    },
    {
      "cell_type": "markdown",
      "metadata": {
        "id": "f3YIEnAFKrKL"
      },
      "source": [
        "# **2. Memuat Dataset dari Hasil Clustering**"
      ]
    },
    {
      "cell_type": "markdown",
      "metadata": {
        "id": "Ey3ItwTen_7E"
      },
      "source": [
        "Memuat dataset hasil clustering dari file CSV ke dalam variabel DataFrame."
      ]
    },
    {
      "cell_type": "code",
      "execution_count": 3,
      "metadata": {
        "id": "GHCGNTyrM5fS"
      },
      "outputs": [
        {
          "name": "stdout",
          "output_type": "stream",
          "text": [
            "Dataset Information:\n",
            "<class 'pandas.core.frame.DataFrame'>\n",
            "RangeIndex: 7000 entries, 0 to 6999\n",
            "Data columns (total 13 columns):\n",
            " #   Column             Non-Null Count  Dtype  \n",
            "---  ------             --------------  -----  \n",
            " 0   Order_ID           7000 non-null   object \n",
            " 1   Customer_ID        7000 non-null   object \n",
            " 2   Customer_Type      7000 non-null   object \n",
            " 3   Product            7000 non-null   object \n",
            " 4   Category           7000 non-null   object \n",
            " 5   Unit_Price         7000 non-null   float64\n",
            " 6   Quantity           7000 non-null   float64\n",
            " 7   Discount           7000 non-null   float64\n",
            " 8   Total_Price        7000 non-null   float64\n",
            " 9   Region             7000 non-null   object \n",
            " 10  Order_Date         7000 non-null   object \n",
            " 11  Quantity_Category  7000 non-null   object \n",
            " 12  Cluster            7000 non-null   int64  \n",
            "dtypes: float64(4), int64(1), object(8)\n",
            "memory usage: 711.1+ KB\n",
            "\n",
            "First 5 rows of the dataset:\n"
          ]
        },
        {
          "data": {
            "text/html": [
              "<div>\n",
              "<style scoped>\n",
              "    .dataframe tbody tr th:only-of-type {\n",
              "        vertical-align: middle;\n",
              "    }\n",
              "\n",
              "    .dataframe tbody tr th {\n",
              "        vertical-align: top;\n",
              "    }\n",
              "\n",
              "    .dataframe thead th {\n",
              "        text-align: right;\n",
              "    }\n",
              "</style>\n",
              "<table border=\"1\" class=\"dataframe\">\n",
              "  <thead>\n",
              "    <tr style=\"text-align: right;\">\n",
              "      <th></th>\n",
              "      <th>Order_ID</th>\n",
              "      <th>Customer_ID</th>\n",
              "      <th>Customer_Type</th>\n",
              "      <th>Product</th>\n",
              "      <th>Category</th>\n",
              "      <th>Unit_Price</th>\n",
              "      <th>Quantity</th>\n",
              "      <th>Discount</th>\n",
              "      <th>Total_Price</th>\n",
              "      <th>Region</th>\n",
              "      <th>Order_Date</th>\n",
              "      <th>Quantity_Category</th>\n",
              "      <th>Cluster</th>\n",
              "    </tr>\n",
              "  </thead>\n",
              "  <tbody>\n",
              "    <tr>\n",
              "      <th>0</th>\n",
              "      <td>ORD697566</td>\n",
              "      <td>CUS6363</td>\n",
              "      <td>B2C</td>\n",
              "      <td>Coca-Cola</td>\n",
              "      <td>Soft Drinks</td>\n",
              "      <td>1.04</td>\n",
              "      <td>7.0</td>\n",
              "      <td>0.0</td>\n",
              "      <td>7.28</td>\n",
              "      <td>Bremen</td>\n",
              "      <td>2021-02-17</td>\n",
              "      <td>Medium</td>\n",
              "      <td>0</td>\n",
              "    </tr>\n",
              "    <tr>\n",
              "      <th>1</th>\n",
              "      <td>ORD1118443</td>\n",
              "      <td>CUS7797</td>\n",
              "      <td>B2B</td>\n",
              "      <td>Selters</td>\n",
              "      <td>Water</td>\n",
              "      <td>0.71</td>\n",
              "      <td>46.0</td>\n",
              "      <td>0.1</td>\n",
              "      <td>29.39</td>\n",
              "      <td>Sachsen-Anhalt</td>\n",
              "      <td>2023-04-15</td>\n",
              "      <td>High</td>\n",
              "      <td>1</td>\n",
              "    </tr>\n",
              "    <tr>\n",
              "      <th>2</th>\n",
              "      <td>ORD562794</td>\n",
              "      <td>CUS4090</td>\n",
              "      <td>B2C</td>\n",
              "      <td>San Pellegrino</td>\n",
              "      <td>Water</td>\n",
              "      <td>0.91</td>\n",
              "      <td>3.0</td>\n",
              "      <td>0.0</td>\n",
              "      <td>2.73</td>\n",
              "      <td>Hessen</td>\n",
              "      <td>2023-04-28</td>\n",
              "      <td>Low</td>\n",
              "      <td>1</td>\n",
              "    </tr>\n",
              "    <tr>\n",
              "      <th>3</th>\n",
              "      <td>ORD2320519</td>\n",
              "      <td>CUS5936</td>\n",
              "      <td>B2C</td>\n",
              "      <td>Beck's</td>\n",
              "      <td>Alcoholic Beverages</td>\n",
              "      <td>1.41</td>\n",
              "      <td>4.0</td>\n",
              "      <td>0.0</td>\n",
              "      <td>5.64</td>\n",
              "      <td>Bremen</td>\n",
              "      <td>2023-11-01</td>\n",
              "      <td>Low</td>\n",
              "      <td>3</td>\n",
              "    </tr>\n",
              "    <tr>\n",
              "      <th>4</th>\n",
              "      <td>ORD727051</td>\n",
              "      <td>CUS1935</td>\n",
              "      <td>B2C</td>\n",
              "      <td>San Pellegrino</td>\n",
              "      <td>Water</td>\n",
              "      <td>0.86</td>\n",
              "      <td>3.0</td>\n",
              "      <td>0.0</td>\n",
              "      <td>2.58</td>\n",
              "      <td>Berlin</td>\n",
              "      <td>2021-02-23</td>\n",
              "      <td>Low</td>\n",
              "      <td>1</td>\n",
              "    </tr>\n",
              "  </tbody>\n",
              "</table>\n",
              "</div>"
            ],
            "text/plain": [
              "     Order_ID Customer_ID Customer_Type         Product             Category  \\\n",
              "0   ORD697566     CUS6363           B2C       Coca-Cola          Soft Drinks   \n",
              "1  ORD1118443     CUS7797           B2B         Selters                Water   \n",
              "2   ORD562794     CUS4090           B2C  San Pellegrino                Water   \n",
              "3  ORD2320519     CUS5936           B2C          Beck's  Alcoholic Beverages   \n",
              "4   ORD727051     CUS1935           B2C  San Pellegrino                Water   \n",
              "\n",
              "   Unit_Price  Quantity  Discount  Total_Price          Region  Order_Date  \\\n",
              "0        1.04       7.0       0.0         7.28          Bremen  2021-02-17   \n",
              "1        0.71      46.0       0.1        29.39  Sachsen-Anhalt  2023-04-15   \n",
              "2        0.91       3.0       0.0         2.73          Hessen  2023-04-28   \n",
              "3        1.41       4.0       0.0         5.64          Bremen  2023-11-01   \n",
              "4        0.86       3.0       0.0         2.58          Berlin  2021-02-23   \n",
              "\n",
              "  Quantity_Category  Cluster  \n",
              "0            Medium        0  \n",
              "1              High        1  \n",
              "2               Low        1  \n",
              "3               Low        3  \n",
              "4               Low        1  "
            ]
          },
          "execution_count": 3,
          "metadata": {},
          "output_type": "execute_result"
        }
      ],
      "source": [
        "# Load the dataset from CSV file\n",
        "data = pd.read_csv('Dataset_klasifikasi.csv')\n",
        "\n",
        "# Display basic dataset information to verify proper loading\n",
        "print(\"Dataset Information:\")\n",
        "data.info()\n",
        "\n",
        "# Show the first 5 rows of the dataset\n",
        "print(\"\\nFirst 5 rows of the dataset:\")\n",
        "data.head()"
      ]
    },
    {
      "cell_type": "markdown",
      "metadata": {
        "id": "KkPem5eWL2UP"
      },
      "source": [
        "# **3. Data Splitting**"
      ]
    },
    {
      "cell_type": "markdown",
      "metadata": {
        "id": "YYj1rl_JNI9Y"
      },
      "source": [
        "Tahap Data Splitting bertujuan untuk memisahkan dataset menjadi dua bagian: data latih (training set) dan data uji (test set)."
      ]
    },
    {
      "cell_type": "code",
      "execution_count": null,
      "metadata": {
        "id": "OubAW-7ONKVj"
      },
      "outputs": [],
      "source": [
        "# Drop irrelevant columns\n",
        "data = data.drop(columns=['Order_ID','Customer_ID','Order_Date'])"
      ]
    },
    {
      "cell_type": "code",
      "execution_count": 7,
      "metadata": {},
      "outputs": [
        {
          "data": {
            "text/html": [
              "<div>\n",
              "<style scoped>\n",
              "    .dataframe tbody tr th:only-of-type {\n",
              "        vertical-align: middle;\n",
              "    }\n",
              "\n",
              "    .dataframe tbody tr th {\n",
              "        vertical-align: top;\n",
              "    }\n",
              "\n",
              "    .dataframe thead th {\n",
              "        text-align: right;\n",
              "    }\n",
              "</style>\n",
              "<table border=\"1\" class=\"dataframe\">\n",
              "  <thead>\n",
              "    <tr style=\"text-align: right;\">\n",
              "      <th></th>\n",
              "      <th>Customer_Type</th>\n",
              "      <th>Product</th>\n",
              "      <th>Category</th>\n",
              "      <th>Unit_Price</th>\n",
              "      <th>Quantity</th>\n",
              "      <th>Discount</th>\n",
              "      <th>Total_Price</th>\n",
              "      <th>Region</th>\n",
              "      <th>Quantity_Category</th>\n",
              "    </tr>\n",
              "  </thead>\n",
              "  <tbody>\n",
              "    <tr>\n",
              "      <th>0</th>\n",
              "      <td>B2C</td>\n",
              "      <td>Coca-Cola</td>\n",
              "      <td>Soft Drinks</td>\n",
              "      <td>1.04</td>\n",
              "      <td>7.0</td>\n",
              "      <td>0.0</td>\n",
              "      <td>7.28</td>\n",
              "      <td>Bremen</td>\n",
              "      <td>Medium</td>\n",
              "    </tr>\n",
              "    <tr>\n",
              "      <th>1</th>\n",
              "      <td>B2B</td>\n",
              "      <td>Selters</td>\n",
              "      <td>Water</td>\n",
              "      <td>0.71</td>\n",
              "      <td>46.0</td>\n",
              "      <td>0.1</td>\n",
              "      <td>29.39</td>\n",
              "      <td>Sachsen-Anhalt</td>\n",
              "      <td>High</td>\n",
              "    </tr>\n",
              "    <tr>\n",
              "      <th>2</th>\n",
              "      <td>B2C</td>\n",
              "      <td>San Pellegrino</td>\n",
              "      <td>Water</td>\n",
              "      <td>0.91</td>\n",
              "      <td>3.0</td>\n",
              "      <td>0.0</td>\n",
              "      <td>2.73</td>\n",
              "      <td>Hessen</td>\n",
              "      <td>Low</td>\n",
              "    </tr>\n",
              "    <tr>\n",
              "      <th>3</th>\n",
              "      <td>B2C</td>\n",
              "      <td>Beck's</td>\n",
              "      <td>Alcoholic Beverages</td>\n",
              "      <td>1.41</td>\n",
              "      <td>4.0</td>\n",
              "      <td>0.0</td>\n",
              "      <td>5.64</td>\n",
              "      <td>Bremen</td>\n",
              "      <td>Low</td>\n",
              "    </tr>\n",
              "    <tr>\n",
              "      <th>4</th>\n",
              "      <td>B2C</td>\n",
              "      <td>San Pellegrino</td>\n",
              "      <td>Water</td>\n",
              "      <td>0.86</td>\n",
              "      <td>3.0</td>\n",
              "      <td>0.0</td>\n",
              "      <td>2.58</td>\n",
              "      <td>Berlin</td>\n",
              "      <td>Low</td>\n",
              "    </tr>\n",
              "  </tbody>\n",
              "</table>\n",
              "</div>"
            ],
            "text/plain": [
              "  Customer_Type         Product             Category  Unit_Price  Quantity  \\\n",
              "0           B2C       Coca-Cola          Soft Drinks        1.04       7.0   \n",
              "1           B2B         Selters                Water        0.71      46.0   \n",
              "2           B2C  San Pellegrino                Water        0.91       3.0   \n",
              "3           B2C          Beck's  Alcoholic Beverages        1.41       4.0   \n",
              "4           B2C  San Pellegrino                Water        0.86       3.0   \n",
              "\n",
              "   Discount  Total_Price          Region Quantity_Category  \n",
              "0       0.0         7.28          Bremen            Medium  \n",
              "1       0.1        29.39  Sachsen-Anhalt              High  \n",
              "2       0.0         2.73          Hessen               Low  \n",
              "3       0.0         5.64          Bremen               Low  \n",
              "4       0.0         2.58          Berlin               Low  "
            ]
          },
          "execution_count": 7,
          "metadata": {},
          "output_type": "execute_result"
        }
      ],
      "source": [
        "# Features and target split\n",
        "X = data.drop('Cluster', axis=1)\n",
        "y = data['Cluster']\n",
        "\n",
        "# Show features preview\n",
        "X.head()"
      ]
    },
    {
      "cell_type": "code",
      "execution_count": 8,
      "metadata": {},
      "outputs": [
        {
          "data": {
            "text/html": [
              "<div>\n",
              "<style scoped>\n",
              "    .dataframe tbody tr th:only-of-type {\n",
              "        vertical-align: middle;\n",
              "    }\n",
              "\n",
              "    .dataframe tbody tr th {\n",
              "        vertical-align: top;\n",
              "    }\n",
              "\n",
              "    .dataframe thead th {\n",
              "        text-align: right;\n",
              "    }\n",
              "</style>\n",
              "<table border=\"1\" class=\"dataframe\">\n",
              "  <thead>\n",
              "    <tr style=\"text-align: right;\">\n",
              "      <th></th>\n",
              "      <th>Customer_Type</th>\n",
              "      <th>Product</th>\n",
              "      <th>Category</th>\n",
              "      <th>Unit_Price</th>\n",
              "      <th>Quantity</th>\n",
              "      <th>Discount</th>\n",
              "      <th>Total_Price</th>\n",
              "      <th>Region</th>\n",
              "      <th>Quantity_Category</th>\n",
              "    </tr>\n",
              "  </thead>\n",
              "  <tbody>\n",
              "    <tr>\n",
              "      <th>0</th>\n",
              "      <td>1</td>\n",
              "      <td>5</td>\n",
              "      <td>2</td>\n",
              "      <td>0.119730</td>\n",
              "      <td>0.093750</td>\n",
              "      <td>0.0</td>\n",
              "      <td>0.110950</td>\n",
              "      <td>4</td>\n",
              "      <td>2</td>\n",
              "    </tr>\n",
              "    <tr>\n",
              "      <th>1</th>\n",
              "      <td>0</td>\n",
              "      <td>32</td>\n",
              "      <td>3</td>\n",
              "      <td>0.064081</td>\n",
              "      <td>0.703125</td>\n",
              "      <td>1.0</td>\n",
              "      <td>0.466474</td>\n",
              "      <td>13</td>\n",
              "      <td>0</td>\n",
              "    </tr>\n",
              "    <tr>\n",
              "      <th>2</th>\n",
              "      <td>1</td>\n",
              "      <td>29</td>\n",
              "      <td>3</td>\n",
              "      <td>0.097808</td>\n",
              "      <td>0.031250</td>\n",
              "      <td>0.0</td>\n",
              "      <td>0.037787</td>\n",
              "      <td>6</td>\n",
              "      <td>1</td>\n",
              "    </tr>\n",
              "    <tr>\n",
              "      <th>3</th>\n",
              "      <td>1</td>\n",
              "      <td>2</td>\n",
              "      <td>0</td>\n",
              "      <td>0.182125</td>\n",
              "      <td>0.046875</td>\n",
              "      <td>0.0</td>\n",
              "      <td>0.084580</td>\n",
              "      <td>4</td>\n",
              "      <td>1</td>\n",
              "    </tr>\n",
              "    <tr>\n",
              "      <th>4</th>\n",
              "      <td>1</td>\n",
              "      <td>29</td>\n",
              "      <td>3</td>\n",
              "      <td>0.089376</td>\n",
              "      <td>0.031250</td>\n",
              "      <td>0.0</td>\n",
              "      <td>0.035375</td>\n",
              "      <td>2</td>\n",
              "      <td>1</td>\n",
              "    </tr>\n",
              "  </tbody>\n",
              "</table>\n",
              "</div>"
            ],
            "text/plain": [
              "   Customer_Type  Product  Category  Unit_Price  Quantity  Discount  \\\n",
              "0              1        5         2    0.119730  0.093750       0.0   \n",
              "1              0       32         3    0.064081  0.703125       1.0   \n",
              "2              1       29         3    0.097808  0.031250       0.0   \n",
              "3              1        2         0    0.182125  0.046875       0.0   \n",
              "4              1       29         3    0.089376  0.031250       0.0   \n",
              "\n",
              "   Total_Price  Region  Quantity_Category  \n",
              "0     0.110950       4                  2  \n",
              "1     0.466474      13                  0  \n",
              "2     0.037787       6                  1  \n",
              "3     0.084580       4                  1  \n",
              "4     0.035375       2                  1  "
            ]
          },
          "execution_count": 8,
          "metadata": {},
          "output_type": "execute_result"
        }
      ],
      "source": [
        "# Initialize preprocessing tools\n",
        "scaler = MinMaxScaler()\n",
        "encoder = LabelEncoder()\n",
        "\n",
        "# Process numerical columns - normalization\n",
        "num_cols = X.select_dtypes(include=['int64', 'float64']).columns\n",
        "X[num_cols] = scaler.fit_transform(X[num_cols])\n",
        "\n",
        "# Process categorical columns - encoding\n",
        "cat_cols = X.select_dtypes(include=['object']).columns\n",
        "for col in cat_cols:\n",
        "    X[col] = encoder.fit_transform(X[col])\n",
        "\n",
        "# Show processed data\n",
        "X.head()"
      ]
    },
    {
      "cell_type": "code",
      "execution_count": 9,
      "metadata": {},
      "outputs": [
        {
          "name": "stdout",
          "output_type": "stream",
          "text": [
            "Train set: X(5600, 9), y(5600,)\n",
            "Test set: X(1400, 9), y(1400,)\n"
          ]
        }
      ],
      "source": [
        "# Split data into train/test sets\n",
        "X_train, X_test, y_train, y_test = train_test_split(\n",
        "    X, y, \n",
        "    test_size=0.2, \n",
        "    random_state=69\n",
        ")\n",
        "\n",
        "# Print dataset shapes\n",
        "print(f\"Train set: X{X_train.shape}, y{y_train.shape}\")\n",
        "print(f\"Test set: X{X_test.shape}, y{y_test.shape}\")"
      ]
    },
    {
      "cell_type": "markdown",
      "metadata": {
        "id": "IVPbB03CMhTT"
      },
      "source": [
        "# **4. Membangun Model Klasifikasi**\n"
      ]
    },
    {
      "cell_type": "markdown",
      "metadata": {
        "id": "Ned1pL9zMmBK"
      },
      "source": [
        "## **a. Membangun Model Klasifikasi**"
      ]
    },
    {
      "cell_type": "markdown",
      "metadata": {
        "id": "WAWzPOE4Nkti"
      },
      "source": [
        "Setelah memilih algoritma klasifikasi yang sesuai, langkah selanjutnya adalah melatih model menggunakan data latih.\n",
        "\n",
        "Berikut adalah rekomendasi tahapannya.\n",
        "1. Pilih algoritma klasifikasi yang sesuai, seperti Logistic Regression, Decision Tree, Random Forest, atau K-Nearest Neighbors (KNN).\n",
        "2. Latih model menggunakan data latih."
      ]
    },
    {
      "cell_type": "code",
      "execution_count": 12,
      "metadata": {
        "id": "4JYxBe87NLDk"
      },
      "outputs": [],
      "source": [
        "# Train Decision Tree model\n",
        "dt = DecisionTreeClassifier(max_depth=5, random_state=69).fit(X_train, y_train)\n",
        "\n",
        "# Train Naive Bayes model\n",
        "nb = GaussianNB().fit(X_train, y_train)"
      ]
    },
    {
      "cell_type": "markdown",
      "metadata": {
        "id": "seYoHNY3XU1y"
      },
      "source": [
        "**Pemilihan Algoritma** <br>\n",
        "Digunakan 2 algoritma untuk melakukan komputasi:\n",
        "\n",
        "1. **Decision Tree** <br>\n",
        "Algoritma berbasis pohon keputusan yang membangun model prediksi dengan membuat struktur pohon berisi aturan-aturan klasifikasi hierarkis\n",
        "\n",
        "2. **Naive Bayes** <br>\n",
        "Pendekatan klasifikasi probabilistik yang mengasumsikan independensi antar fitur <br>\n",
        "\n",
        "Kedua algoritma dipilih karena efisiensi komputasinya yang baik untuk dataset berukuran kecil hingga menengah, serta kemampuannya memberikan hasil yang memadai tanpa membutuhkan konfigurasi yang rumit."
      ]
    },
    {
      "cell_type": "markdown",
      "metadata": {
        "id": "ergzChZFEL-O"
      },
      "source": [
        "## **b. Evaluasi Model Klasifikasi**"
      ]
    },
    {
      "cell_type": "markdown",
      "metadata": {
        "id": "zOm68u-7NpLT"
      },
      "source": [
        "Berikut adalah **rekomendasi** tahapannya.\n",
        "1. Lakukan prediksi menggunakan data uji.\n",
        "2. Hitung metrik evaluasi seperti Accuracy dan F1-Score (Opsional: Precision dan Recall).\n",
        "3. Buat confusion matrix untuk melihat detail prediksi benar dan salah."
      ]
    },
    {
      "cell_type": "code",
      "execution_count": 28,
      "metadata": {
        "id": "tMq4QAssNLip"
      },
      "outputs": [
        {
          "data": {
            "image/png": "[encoded data removed]",
            "text/plain": [
              "<Figure size 1200x500 with 4 Axes>"
            ]
          },
          "metadata": {},
          "output_type": "display_data"
        }
      ],
      "source": [
        "# 1. Make predictions\n",
        "dt_pred = dt.predict(X_test)  # Decision Tree\n",
        "nb_pred = nb.predict(X_test)  # Naive Bayes\n",
        "\n",
        "# 3. Generate confusion matrices\n",
        "fig, (ax1, ax2) = plt.subplots(1, 2, figsize=(12, 5))\n",
        "\n",
        "ConfusionMatrixDisplay.from_predictions(y_test, dt_pred, ax=ax1)\n",
        "ax1.set_title('Decision Tree')\n",
        "\n",
        "ConfusionMatrixDisplay.from_predictions(y_test, nb_pred, ax=ax2)\n",
        "ax2.set_title('Naive Bayes')\n",
        "\n",
        "plt.tight_layout()\n",
        "plt.show()"
      ]
    },
    {
      "cell_type": "code",
      "execution_count": 29,
      "metadata": {},
      "outputs": [
        {
          "name": "stdout",
          "output_type": "stream",
          "text": [
            "\n",
            "Model Performance Comparison:\n"
          ]
        },
        {
          "data": {
            "text/html": [
              "<style type=\"text/css\">\n",
              "</style>\n",
              "<table id=\"T_98a71\">\n",
              "  <thead>\n",
              "    <tr>\n",
              "      <th class=\"blank level0\" >&nbsp;</th>\n",
              "      <th id=\"T_98a71_level0_col0\" class=\"col_heading level0 col0\" >Model</th>\n",
              "      <th id=\"T_98a71_level0_col1\" class=\"col_heading level0 col1\" >Accuracy</th>\n",
              "      <th id=\"T_98a71_level0_col2\" class=\"col_heading level0 col2\" >Precision</th>\n",
              "      <th id=\"T_98a71_level0_col3\" class=\"col_heading level0 col3\" >Recall</th>\n",
              "      <th id=\"T_98a71_level0_col4\" class=\"col_heading level0 col4\" >F1-Score</th>\n",
              "    </tr>\n",
              "  </thead>\n",
              "  <tbody>\n",
              "    <tr>\n",
              "      <th id=\"T_98a71_level0_row0\" class=\"row_heading level0 row0\" >0</th>\n",
              "      <td id=\"T_98a71_row0_col0\" class=\"data row0 col0\" >Decision Tree</td>\n",
              "      <td id=\"T_98a71_row0_col1\" class=\"data row0 col1\" >1.00</td>\n",
              "      <td id=\"T_98a71_row0_col2\" class=\"data row0 col2\" >1.00</td>\n",
              "      <td id=\"T_98a71_row0_col3\" class=\"data row0 col3\" >1.00</td>\n",
              "      <td id=\"T_98a71_row0_col4\" class=\"data row0 col4\" >1.00</td>\n",
              "    </tr>\n",
              "    <tr>\n",
              "      <th id=\"T_98a71_level0_row1\" class=\"row_heading level0 row1\" >1</th>\n",
              "      <td id=\"T_98a71_row1_col0\" class=\"data row1 col0\" >Naive Bayes</td>\n",
              "      <td id=\"T_98a71_row1_col1\" class=\"data row1 col1\" >1.00</td>\n",
              "      <td id=\"T_98a71_row1_col2\" class=\"data row1 col2\" >1.00</td>\n",
              "      <td id=\"T_98a71_row1_col3\" class=\"data row1 col3\" >1.00</td>\n",
              "      <td id=\"T_98a71_row1_col4\" class=\"data row1 col4\" >1.00</td>\n",
              "    </tr>\n",
              "  </tbody>\n",
              "</table>\n"
            ],
            "text/plain": [
              "<pandas.io.formats.style.Styler at 0x24bdaf1cf10>"
            ]
          },
          "execution_count": 29,
          "metadata": {},
          "output_type": "execute_result"
        }
      ],
      "source": [
        "# Generate classification reports\n",
        "dt_report = classification_report(y_test, dt_pred, digits=4, output_dict=True)\n",
        "nb_report = classification_report(y_test, nb_pred, digits=4, output_dict=True)\n",
        "\n",
        "# Create comparison DataFrame\n",
        "metrics_df = pd.DataFrame({\n",
        "    'Model': ['Decision Tree', 'Naive Bayes'],\n",
        "    'Accuracy': [dt_report['accuracy'], nb_report['accuracy']],\n",
        "    'Precision': [dt_report['weighted avg']['precision'], nb_report['weighted avg']['precision']],\n",
        "    'Recall': [dt_report['weighted avg']['recall'], nb_report['weighted avg']['recall']],\n",
        "    'F1-Score': [dt_report['weighted avg']['f1-score'], nb_report['weighted avg']['f1-score']]\n",
        "})\n",
        "\n",
        "# Display formatted metrics\n",
        "print(\"\\nModel Performance Comparison:\")\n",
        "metrics_df.style.format({col: '{:.2f}' for col in metrics_df.columns if col != 'Model'})"
      ]
    },
    {
      "cell_type": "markdown",
      "metadata": {
        "id": "H4_9OwrsXZlz"
      },
      "source": [
        "Hasil evaluasi menunjukkan bahwa baik algoritma Decision Tree maupun Naïve Bayes mencapai akurasi sempurna dengan nilai 100% untuk semua metrik evaluasi, termasuk precision, recall, dan F1-score. Confusion matrix yang dihasilkan juga mengindikasikan tidak adanya kesalahan klasifikasi, di mana setiap sampel diklasifikasikan dengan benar sesuai kelasnya."
      ]
    },
    {
      "cell_type": "markdown",
      "metadata": {
        "id": "ph9yIYDXEPuB"
      },
      "source": [
        "## **c. Tuning Model Klasifikasi (Optional)**"
      ]
    },
    {
      "cell_type": "markdown",
      "metadata": {
        "id": "-Bikx3LINv5e"
      },
      "source": [
        "Gunakan GridSearchCV, RandomizedSearchCV, atau metode lainnya untuk mencari kombinasi hyperparameter terbaik"
      ]
    },
    {
      "cell_type": "code",
      "execution_count": 30,
      "metadata": {
        "id": "winbFzb8NL95"
      },
      "outputs": [
        {
          "name": "stdout",
          "output_type": "stream",
          "text": [
            "Decision Tree Best Parameters: {'criterion': 'gini', 'max_depth': 17, 'min_samples_leaf': 8, 'min_samples_split': 8}\n",
            "Naive Bayes Best Parameters: {'var_smoothing': np.float64(2.848035868435799e-08)}\n"
          ]
        }
      ],
      "source": [
        "from sklearn.model_selection import RandomizedSearchCV\n",
        "from scipy.stats import randint\n",
        "\n",
        "# 1. Decision Tree Tuning\n",
        "dt_params = {\n",
        "    'max_depth': randint(3, 20),\n",
        "    'min_samples_split': randint(2, 20),\n",
        "    'min_samples_leaf': randint(1, 10),\n",
        "    'criterion': ['gini', 'entropy']\n",
        "}\n",
        "\n",
        "dt_search = RandomizedSearchCV(\n",
        "    DecisionTreeClassifier(random_state=42),\n",
        "    param_distributions=dt_params,\n",
        "    n_iter=50,\n",
        "    cv=5,\n",
        "    scoring='accuracy',\n",
        "    random_state=42,\n",
        "    n_jobs=-1\n",
        ")\n",
        "\n",
        "dt_search.fit(X_train, y_train)\n",
        "\n",
        "# 2. Naive Bayes Tuning (GaussianNB has few parameters, so we'll tune var_smoothing)\n",
        "nb_params = {\n",
        "    'var_smoothing': np.logspace(0, -9, num=100)\n",
        "}\n",
        "\n",
        "nb_search = RandomizedSearchCV(\n",
        "    GaussianNB(),\n",
        "    param_distributions=nb_params,\n",
        "    n_iter=20,\n",
        "    cv=5,\n",
        "    scoring='accuracy',\n",
        "    random_state=42,\n",
        "    n_jobs=-1\n",
        ")\n",
        "\n",
        "nb_search.fit(X_train, y_train)\n",
        "\n",
        "# Display best parameters\n",
        "print(\"Decision Tree Best Parameters:\", dt_search.best_params_)\n",
        "print(\"Naive Bayes Best Parameters:\", nb_search.best_params_)\n",
        "\n",
        "# Evaluate tuned models\n",
        "dt_tuned = dt_search.best_estimator_\n",
        "nb_tuned = nb_search.best_estimator_"
      ]
    },
    {
      "cell_type": "markdown",
      "metadata": {
        "id": "hE7pqlEPEYzI"
      },
      "source": [
        "## **d. Evaluasi Model Klasifikasi setelah Tuning (Optional)**"
      ]
    },
    {
      "cell_type": "markdown",
      "metadata": {
        "id": "feaPESoeN0zz"
      },
      "source": [
        "Berikut adalah rekomendasi tahapannya.\n",
        "1. Gunakan model dengan hyperparameter terbaik.\n",
        "2. Hitung ulang metrik evaluasi untuk melihat apakah ada peningkatan performa."
      ]
    },
    {
      "cell_type": "code",
      "execution_count": 34,
      "metadata": {
        "id": "HTXZRvEeNMb1"
      },
      "outputs": [
        {
          "name": "stdout",
          "output_type": "stream",
          "text": [
            "╔══════════════════════════════════╗\n",
            "║      Model Performance Comparison ║\n",
            "╚══════════════════════════════════╝\n"
          ]
        },
        {
          "data": {
            "text/html": [
              "<div>\n",
              "<style scoped>\n",
              "    .dataframe tbody tr th:only-of-type {\n",
              "        vertical-align: middle;\n",
              "    }\n",
              "\n",
              "    .dataframe tbody tr th {\n",
              "        vertical-align: top;\n",
              "    }\n",
              "\n",
              "    .dataframe thead th {\n",
              "        text-align: right;\n",
              "    }\n",
              "</style>\n",
              "<table border=\"1\" class=\"dataframe\">\n",
              "  <thead>\n",
              "    <tr style=\"text-align: right;\">\n",
              "      <th></th>\n",
              "      <th>Model</th>\n",
              "      <th>Accuracy</th>\n",
              "      <th>Precision</th>\n",
              "      <th>Recall</th>\n",
              "      <th>F1-Score</th>\n",
              "    </tr>\n",
              "  </thead>\n",
              "  <tbody>\n",
              "    <tr>\n",
              "      <th>0</th>\n",
              "      <td>Decision Tree (Tuned)</td>\n",
              "      <td>1.0</td>\n",
              "      <td>1.0</td>\n",
              "      <td>1.0</td>\n",
              "      <td>1.0</td>\n",
              "    </tr>\n",
              "    <tr>\n",
              "      <th>1</th>\n",
              "      <td>Naive Bayes (Tuned)</td>\n",
              "      <td>1.0</td>\n",
              "      <td>1.0</td>\n",
              "      <td>1.0</td>\n",
              "      <td>1.0</td>\n",
              "    </tr>\n",
              "  </tbody>\n",
              "</table>\n",
              "</div>"
            ],
            "text/plain": [
              "                   Model  Accuracy  Precision  Recall  F1-Score\n",
              "0  Decision Tree (Tuned)       1.0        1.0     1.0       1.0\n",
              "1    Naive Bayes (Tuned)       1.0        1.0     1.0       1.0"
            ]
          },
          "metadata": {},
          "output_type": "display_data"
        },
        {
          "name": "stdout",
          "output_type": "stream",
          "text": [
            "\n",
            "\n",
            "╔══════════════════════════════════╗\n",
            "║        Detailed Class Reports     ║\n",
            "╚══════════════════════════════════╝\n",
            "\n",
            "▄▄▄▄▄▄▄▄▄▄▄▄▄▄▄▄▄▄▄▄▄▄▄▄▄▄▄▄▄▄▄▄\n",
            "█       Decision Tree (Tuned)        █\n",
            "▀▀▀▀▀▀▀▀▀▀▀▀▀▀▀▀▀▀▀▀▀▀▀▀▀▀▀▀▀▀▀▀\n",
            "              precision    recall  f1-score   support\n",
            "\n",
            "           0     1.0000    1.0000    1.0000       386\n",
            "           1     1.0000    1.0000    1.0000       410\n",
            "           2     1.0000    1.0000    1.0000       397\n",
            "           3     1.0000    1.0000    1.0000       207\n",
            "\n",
            "    accuracy                         1.0000      1400\n",
            "   macro avg     1.0000    1.0000    1.0000      1400\n",
            "weighted avg     1.0000    1.0000    1.0000      1400\n",
            "\n",
            "\n",
            "▄▄▄▄▄▄▄▄▄▄▄▄▄▄▄▄▄▄▄▄▄▄▄▄▄▄▄▄▄▄▄▄\n",
            "█        Naive Bayes (Tuned)         █\n",
            "▀▀▀▀▀▀▀▀▀▀▀▀▀▀▀▀▀▀▀▀▀▀▀▀▀▀▀▀▀▀▀▀\n",
            "              precision    recall  f1-score   support\n",
            "\n",
            "           0     1.0000    1.0000    1.0000       386\n",
            "           1     1.0000    1.0000    1.0000       410\n",
            "           2     1.0000    1.0000    1.0000       397\n",
            "           3     1.0000    1.0000    1.0000       207\n",
            "\n",
            "    accuracy                         1.0000      1400\n",
            "   macro avg     1.0000    1.0000    1.0000      1400\n",
            "weighted avg     1.0000    1.0000    1.0000      1400\n",
            "\n"
          ]
        }
      ],
      "source": [
        "from sklearn.metrics import classification_report\n",
        "\n",
        "# 1. Use best tuned models\n",
        "best_dt = dt_search.best_estimator_\n",
        "best_nb = nb_search.best_estimator_\n",
        "\n",
        "# 2. Evaluation function with added report\n",
        "def evaluate_model(model, X_test, y_test, name):\n",
        "    y_pred = model.predict(X_test)\n",
        "    metrics = {\n",
        "        'Model': name,\n",
        "        'Accuracy': round(accuracy_score(y_test, y_pred), 4),\n",
        "        'Precision': round(precision_score(y_test, y_pred, average='weighted'), 4),\n",
        "        'Recall': round(recall_score(y_test, y_pred, average='weighted'), 4),\n",
        "        'F1-Score': round(f1_score(y_test, y_pred, average='weighted'), 4)\n",
        "    }\n",
        "    report = classification_report(y_test, y_pred, digits=4)\n",
        "    return metrics, report\n",
        "\n",
        "# 3. Compare all versions\n",
        "comparisons = []\n",
        "reports = []\n",
        "\n",
        "for model, name in [(best_dt, \"Decision Tree (Tuned)\"),\n",
        "                    (best_nb, \"Naive Bayes (Tuned)\")]:\n",
        "    metrics, report = evaluate_model(model, X_test, y_test, name)\n",
        "    comparisons.append(metrics)\n",
        "    reports.append(report)\n",
        "\n",
        "# 4. Display results\n",
        "print(\"╔══════════════════════════════════╗\")\n",
        "print(\"║      Model Performance Comparison ║\")\n",
        "print(\"╚══════════════════════════════════╝\")\n",
        "display(pd.DataFrame(comparisons))\n",
        "\n",
        "print(\"\\n\\n╔══════════════════════════════════╗\")\n",
        "print(\"║        Detailed Class Reports     ║\")\n",
        "print(\"╚══════════════════════════════════╝\")\n",
        "for i, (name, report) in enumerate(zip([m['Model'] for m in comparisons], reports)):\n",
        "    print(f\"\\n▄▄▄▄▄▄▄▄▄▄▄▄▄▄▄▄▄▄▄▄▄▄▄▄▄▄▄▄▄▄▄▄\")\n",
        "    print(f\"█ {name:^34} █\")\n",
        "    print(\"▀▀▀▀▀▀▀▀▀▀▀▀▀▀▀▀▀▀▀▀▀▀▀▀▀▀▀▀▀▀▀▀\")\n",
        "    print(report)"
      ]
    },
    {
      "cell_type": "markdown",
      "metadata": {
        "id": "ZRsOdm4uEgAW"
      },
      "source": [
        "## **e. Analisis Hasil Evaluasi Model Klasifikasi**"
      ]
    },
    {
      "cell_type": "markdown",
      "metadata": {
        "id": "Hm3BhSi6N4_l"
      },
      "source": [
        "Berikut adalah **rekomendasi** tahapannya.\n",
        "1. Bandingkan hasil evaluasi sebelum dan setelah tuning (jika dilakukan).\n",
        "2. Identifikasi kelemahan model, seperti:\n",
        "  - Precision atau Recall rendah untuk kelas tertentu.\n",
        "  - Apakah model mengalami overfitting atau underfitting?\n",
        "3. Berikan rekomendasi tindakan lanjutan, seperti mengumpulkan data tambahan atau mencoba algoritma lain jika hasil belum memuaskan."
      ]
    },
    {
      "cell_type": "markdown",
      "metadata": {},
      "source": [
        "##### 1. Perbandingan Sebelum dan Sesudah Tuning"
      ]
    },
    {
      "cell_type": "code",
      "execution_count": 36,
      "metadata": {},
      "outputs": [
        {
          "name": "stdout",
          "output_type": "stream",
          "text": [
            "Perbandingan Performa Model:\n"
          ]
        },
        {
          "data": {
            "text/html": [
              "<div>\n",
              "<style scoped>\n",
              "    .dataframe tbody tr th:only-of-type {\n",
              "        vertical-align: middle;\n",
              "    }\n",
              "\n",
              "    .dataframe tbody tr th {\n",
              "        vertical-align: top;\n",
              "    }\n",
              "\n",
              "    .dataframe thead th {\n",
              "        text-align: right;\n",
              "    }\n",
              "</style>\n",
              "<table border=\"1\" class=\"dataframe\">\n",
              "  <thead>\n",
              "    <tr style=\"text-align: right;\">\n",
              "      <th></th>\n",
              "      <th>Model</th>\n",
              "      <th>Accuracy</th>\n",
              "      <th>Precision</th>\n",
              "      <th>Recall</th>\n",
              "      <th>F1-Score</th>\n",
              "    </tr>\n",
              "  </thead>\n",
              "  <tbody>\n",
              "    <tr>\n",
              "      <th>0</th>\n",
              "      <td>Decision Tree (Default)</td>\n",
              "      <td>1.0</td>\n",
              "      <td>1.0</td>\n",
              "      <td>1.0</td>\n",
              "      <td>1.0</td>\n",
              "    </tr>\n",
              "    <tr>\n",
              "      <th>1</th>\n",
              "      <td>Decision Tree (Tuned)</td>\n",
              "      <td>1.0</td>\n",
              "      <td>1.0</td>\n",
              "      <td>1.0</td>\n",
              "      <td>1.0</td>\n",
              "    </tr>\n",
              "    <tr>\n",
              "      <th>2</th>\n",
              "      <td>Naive Bayes (Default)</td>\n",
              "      <td>1.0</td>\n",
              "      <td>1.0</td>\n",
              "      <td>1.0</td>\n",
              "      <td>1.0</td>\n",
              "    </tr>\n",
              "    <tr>\n",
              "      <th>3</th>\n",
              "      <td>Naive Bayes (Tuned)</td>\n",
              "      <td>1.0</td>\n",
              "      <td>1.0</td>\n",
              "      <td>1.0</td>\n",
              "      <td>1.0</td>\n",
              "    </tr>\n",
              "  </tbody>\n",
              "</table>\n",
              "</div>"
            ],
            "text/plain": [
              "                     Model  Accuracy  Precision  Recall  F1-Score\n",
              "0  Decision Tree (Default)       1.0        1.0     1.0       1.0\n",
              "1    Decision Tree (Tuned)       1.0        1.0     1.0       1.0\n",
              "2    Naive Bayes (Default)       1.0        1.0     1.0       1.0\n",
              "3      Naive Bayes (Tuned)       1.0        1.0     1.0       1.0"
            ]
          },
          "metadata": {},
          "output_type": "display_data"
        }
      ],
      "source": [
        "def get_model_performance(model, X_test, y_test, model_name):\n",
        "    y_pred = model.predict(X_test)\n",
        "    return {\n",
        "        'Model': model_name,\n",
        "        'Accuracy': accuracy_score(y_test, y_pred),\n",
        "        'Precision': precision_score(y_test, y_pred, average='weighted'),\n",
        "        'Recall': recall_score(y_test, y_pred, average='weighted'),\n",
        "        'F1-Score': f1_score(y_test, y_pred, average='weighted')\n",
        "    }\n",
        "\n",
        "# Bandingkan semua model\n",
        "results = [\n",
        "    get_model_performance(dt, X_test, y_test, \"Decision Tree (Default)\"),\n",
        "    get_model_performance(best_dt, X_test, y_test, \"Decision Tree (Tuned)\"),\n",
        "    get_model_performance(nb, X_test, y_test, \"Naive Bayes (Default)\"),\n",
        "    get_model_performance(best_nb, X_test, y_test, \"Naive Bayes (Tuned)\")\n",
        "]\n",
        "\n",
        "# Buat DataFrame\n",
        "performance_df = pd.DataFrame(results)\n",
        "performance_df = performance_df.round(4)\n",
        "\n",
        "print(\"Perbandingan Performa Model:\")\n",
        "display(performance_df)"
      ]
    },
    {
      "cell_type": "markdown",
      "metadata": {},
      "source": [
        "- **Tidak ada peningkatan performa** setelah tuning pada kedua model:\n",
        "  - Baik Decision Tree maupun Naive Bayes menunjukkan akurasi sempurna (1.0) baik sebelum maupun setelah tuning\n",
        "  - Semua metrik (Accuracy, Precision, Recall, F1-Score) konsisten di nilai 1.0\n",
        "\n",
        "- **Implikasi**:\n",
        "  - Proses tuning tidak memberikan manfaat tambahan dalam kasus ini\n",
        "  - Kemungkinan dataset terlalu sederhana atau memiliki pola yang sangat jelas\n"
      ]
    },
    {
      "cell_type": "markdown",
      "metadata": {},
      "source": [
        "##### 2. Identifikasi Kelemahan Model"
      ]
    },
    {
      "cell_type": "markdown",
      "metadata": {},
      "source": [
        "**Masalah yang Teridentifikasi:**\n",
        "- **Performansi terlalu sempurna** (semua metrik = 1.0) yang mencurigakan untuk data real-world\n",
        "- **Potensi masalah**:\n",
        "  - **Data Leakage**: Kemungkinan ada kebocoran informasi antara data training dan testing\n",
        "  - **Overfitting Ekstrim**: Model mungkin menghafal seluruh dataset\n",
        "  - **Dataset Terlalu Sederhana**: Problem yang dihadapi mungkin trivial\n",
        "\n",
        "**Analisis Tambahan:**\n",
        "- Tidak teridentifikasi kelas dengan performa rendah karena semua metrik sempurna\n",
        "- Tidak ada indikasi underfitting\n"
      ]
    },
    {
      "cell_type": "markdown",
      "metadata": {},
      "source": [
        "##### 3. Rekomendasi Tindakan Lanjutan\n",
        "**Untuk Validasi Model:**\n",
        "1. **Cek Data Leakage**:\n",
        "   - Pastikan tidak ada feature yang secara tidak langsung mengandung informasi target\n",
        "   - Verifikasi proses split data dilakukan sebelum preprocessing\n",
        "\n",
        "2. **Evaluasi pada Data Baru**:\n",
        "   - Uji model dengan dataset eksternal yang benar-benar belum pernah dilihat\n",
        "   - Implementasi cross-validation yang lebih ketat\n",
        "\n",
        "**Untuk Pengembangan Model:**\n",
        "1. **Coba Dataset yang Lebih Kompleks**:\n",
        "   - Tambahkan noise atau augmentasi data jika dataset buatan\n",
        "   - Kumpulkan lebih banyak variasi data real-world\n",
        "\n",
        "2. **Eksperimen dengan Algoritma Lain**:\n",
        "   - Coba model yang lebih kompleks (SVM, Neural Network) sebagai baseline comparison\n",
        "   - Uji ensemble methods untuk memverifikasi konsistensi performa"
      ]
    }
  ],
  "metadata": {
    "colab": {
      "provenance": []
    },
    "kernelspec": {
      "display_name": "venv",
      "language": "python",
      "name": "python3"
    },
    "language_info": {
      "codemirror_mode": {
        "name": "ipython",
        "version": 3
      },
      "file_extension": ".py",
      "mimetype": "text/x-python",
      "name": "python",
      "nbconvert_exporter": "python",
      "pygments_lexer": "ipython3",
      "version": "3.9.13"
    }
  },
  "nbformat": 4,
  "nbformat_minor": 0
}
